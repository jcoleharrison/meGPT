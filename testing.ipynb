{
 "cells": [
  {
   "cell_type": "code",
   "execution_count": 11,
   "id": "911ae274",
   "metadata": {},
   "outputs": [
    {
     "name": "stdout",
     "output_type": "stream",
     "text": [
      "Added 2 tokens (at IDs [128256, 128257])\n"
     ]
    }
   ],
   "source": [
    "from transformers import AutoTokenizer, AutoModelForCausalLM, BitsAndBytesConfig\n",
    "import torch \n",
    "\n",
    "\n",
    "bnb_config = BitsAndBytesConfig(\n",
    "    load_in_8bit=True,\n",
    "    # bnb_4bit_compute_dtype=torch.float16\n",
    ")\n",
    "\n",
    "model_id = \"nvidia/Llama-3.1-Nemotron-Nano-8B-v1\"\n",
    "\n",
    "# 1) Load the meta-provided tokenizer & model\n",
    "tokenizer = AutoTokenizer.from_pretrained(model_id)\n",
    "model_kwargs = {\"torch_dtype\": torch.bfloat16, \"device_map\": \"auto\"}\n",
    "\n",
    "# 2) Tell HF to reserve two new specials\n",
    "new_specials = [\"<|OTHER|>\", \"<|ME|>\"]\n",
    "num_added = tokenizer.add_special_tokens({\"additional_special_tokens\": new_specials})\n",
    "print(f\"Added {num_added} tokens (at IDs {tokenizer.convert_tokens_to_ids(new_specials)})\")\n",
    "\n"
   ]
  },
  {
   "cell_type": "code",
   "execution_count": 13,
   "id": "712cf9ed",
   "metadata": {},
   "outputs": [
    {
     "data": {
      "application/vnd.jupyter.widget-view+json": {
       "model_id": "348fecb681404e43a590f7ff70e2150a",
       "version_major": 2,
       "version_minor": 0
      },
      "text/plain": [
       "model.safetensors.index.json:   0%|          | 0.00/23.9k [00:00<?, ?B/s]"
      ]
     },
     "metadata": {},
     "output_type": "display_data"
    },
    {
     "data": {
      "application/vnd.jupyter.widget-view+json": {
       "model_id": "217df8b94f1a4703893fb72837cf4325",
       "version_major": 2,
       "version_minor": 0
      },
      "text/plain": [
       "Fetching 4 files:   0%|          | 0/4 [00:00<?, ?it/s]"
      ]
     },
     "metadata": {},
     "output_type": "display_data"
    },
    {
     "data": {
      "application/vnd.jupyter.widget-view+json": {
       "model_id": "031699569af14e06bf8718bc49f93774",
       "version_major": 2,
       "version_minor": 0
      },
      "text/plain": [
       "model-00002-of-00004.safetensors:   0%|          | 0.00/5.00G [00:00<?, ?B/s]"
      ]
     },
     "metadata": {},
     "output_type": "display_data"
    },
    {
     "data": {
      "application/vnd.jupyter.widget-view+json": {
       "model_id": "8f99bd66fec24db6a9f61d170e880460",
       "version_major": 2,
       "version_minor": 0
      },
      "text/plain": [
       "model-00004-of-00004.safetensors:   0%|          | 0.00/1.17G [00:00<?, ?B/s]"
      ]
     },
     "metadata": {},
     "output_type": "display_data"
    },
    {
     "data": {
      "application/vnd.jupyter.widget-view+json": {
       "model_id": "bd86bafd22a64748b52c6019d9f9f410",
       "version_major": 2,
       "version_minor": 0
      },
      "text/plain": [
       "model-00003-of-00004.safetensors:   0%|          | 0.00/4.92G [00:00<?, ?B/s]"
      ]
     },
     "metadata": {},
     "output_type": "display_data"
    },
    {
     "data": {
      "application/vnd.jupyter.widget-view+json": {
       "model_id": "59e4cdbdb56d4109879b7ec6b7264161",
       "version_major": 2,
       "version_minor": 0
      },
      "text/plain": [
       "model-00001-of-00004.safetensors:   0%|          | 0.00/4.98G [00:00<?, ?B/s]"
      ]
     },
     "metadata": {},
     "output_type": "display_data"
    },
    {
     "data": {
      "application/vnd.jupyter.widget-view+json": {
       "model_id": "bebdb930a6ff4233927ee43eaeea5a24",
       "version_major": 2,
       "version_minor": 0
      },
      "text/plain": [
       "Loading checkpoint shards:   0%|          | 0/4 [00:00<?, ?it/s]"
      ]
     },
     "metadata": {},
     "output_type": "display_data"
    },
    {
     "ename": "ValueError",
     "evalue": "You are trying to offload the whole model to the disk. Please use the `disk_offload` function instead.",
     "output_type": "error",
     "traceback": [
      "\u001b[31m---------------------------------------------------------------------------\u001b[39m",
      "\u001b[31mValueError\u001b[39m                                Traceback (most recent call last)",
      "\u001b[36mCell\u001b[39m\u001b[36m \u001b[39m\u001b[32mIn[13]\u001b[39m\u001b[32m, line 1\u001b[39m\n\u001b[32m----> \u001b[39m\u001b[32m1\u001b[39m model = \u001b[43mAutoModelForCausalLM\u001b[49m\u001b[43m.\u001b[49m\u001b[43mfrom_pretrained\u001b[49m\u001b[43m(\u001b[49m\n\u001b[32m      2\u001b[39m \u001b[43m    \u001b[49m\u001b[43mmodel_id\u001b[49m\u001b[43m,\u001b[49m\n\u001b[32m      3\u001b[39m \u001b[43m    \u001b[49m\u001b[38;5;66;43;03m# quantization_config=bnb_config,\u001b[39;49;00m\n\u001b[32m      4\u001b[39m \u001b[43m    \u001b[49m\u001b[43mdevice_map\u001b[49m\u001b[43m=\u001b[49m\u001b[33;43m\"\u001b[39;49m\u001b[33;43mauto\u001b[39;49m\u001b[33;43m\"\u001b[39;49m\n\u001b[32m      5\u001b[39m \u001b[43m)\u001b[49m\n",
      "\u001b[36mFile \u001b[39m\u001b[32m~/Desktop/Repos/meGPT/.venv/lib/python3.13/site-packages/transformers/models/auto/auto_factory.py:571\u001b[39m, in \u001b[36m_BaseAutoModelClass.from_pretrained\u001b[39m\u001b[34m(cls, pretrained_model_name_or_path, *model_args, **kwargs)\u001b[39m\n\u001b[32m    569\u001b[39m     \u001b[38;5;28;01mif\u001b[39;00m model_class.config_class == config.sub_configs.get(\u001b[33m\"\u001b[39m\u001b[33mtext_config\u001b[39m\u001b[33m\"\u001b[39m, \u001b[38;5;28;01mNone\u001b[39;00m):\n\u001b[32m    570\u001b[39m         config = config.get_text_config()\n\u001b[32m--> \u001b[39m\u001b[32m571\u001b[39m     \u001b[38;5;28;01mreturn\u001b[39;00m \u001b[43mmodel_class\u001b[49m\u001b[43m.\u001b[49m\u001b[43mfrom_pretrained\u001b[49m\u001b[43m(\u001b[49m\n\u001b[32m    572\u001b[39m \u001b[43m        \u001b[49m\u001b[43mpretrained_model_name_or_path\u001b[49m\u001b[43m,\u001b[49m\u001b[43m \u001b[49m\u001b[43m*\u001b[49m\u001b[43mmodel_args\u001b[49m\u001b[43m,\u001b[49m\u001b[43m \u001b[49m\u001b[43mconfig\u001b[49m\u001b[43m=\u001b[49m\u001b[43mconfig\u001b[49m\u001b[43m,\u001b[49m\u001b[43m \u001b[49m\u001b[43m*\u001b[49m\u001b[43m*\u001b[49m\u001b[43mhub_kwargs\u001b[49m\u001b[43m,\u001b[49m\u001b[43m \u001b[49m\u001b[43m*\u001b[49m\u001b[43m*\u001b[49m\u001b[43mkwargs\u001b[49m\n\u001b[32m    573\u001b[39m \u001b[43m    \u001b[49m\u001b[43m)\u001b[49m\n\u001b[32m    574\u001b[39m \u001b[38;5;28;01mraise\u001b[39;00m \u001b[38;5;167;01mValueError\u001b[39;00m(\n\u001b[32m    575\u001b[39m     \u001b[33mf\u001b[39m\u001b[33m\"\u001b[39m\u001b[33mUnrecognized configuration class \u001b[39m\u001b[38;5;132;01m{\u001b[39;00mconfig.\u001b[34m__class__\u001b[39m\u001b[38;5;132;01m}\u001b[39;00m\u001b[33m for this kind of AutoModel: \u001b[39m\u001b[38;5;132;01m{\u001b[39;00m\u001b[38;5;28mcls\u001b[39m.\u001b[34m__name__\u001b[39m\u001b[38;5;132;01m}\u001b[39;00m\u001b[33m.\u001b[39m\u001b[38;5;130;01m\\n\u001b[39;00m\u001b[33m\"\u001b[39m\n\u001b[32m    576\u001b[39m     \u001b[33mf\u001b[39m\u001b[33m\"\u001b[39m\u001b[33mModel type should be one of \u001b[39m\u001b[38;5;132;01m{\u001b[39;00m\u001b[33m'\u001b[39m\u001b[33m, \u001b[39m\u001b[33m'\u001b[39m.join(c.\u001b[34m__name__\u001b[39m\u001b[38;5;250m \u001b[39m\u001b[38;5;28;01mfor\u001b[39;00m\u001b[38;5;250m \u001b[39mc\u001b[38;5;250m \u001b[39m\u001b[38;5;129;01min\u001b[39;00m\u001b[38;5;250m \u001b[39m\u001b[38;5;28mcls\u001b[39m._model_mapping.keys())\u001b[38;5;132;01m}\u001b[39;00m\u001b[33m.\u001b[39m\u001b[33m\"\u001b[39m\n\u001b[32m    577\u001b[39m )\n",
      "\u001b[36mFile \u001b[39m\u001b[32m~/Desktop/Repos/meGPT/.venv/lib/python3.13/site-packages/transformers/modeling_utils.py:309\u001b[39m, in \u001b[36mrestore_default_torch_dtype.<locals>._wrapper\u001b[39m\u001b[34m(*args, **kwargs)\u001b[39m\n\u001b[32m    307\u001b[39m old_dtype = torch.get_default_dtype()\n\u001b[32m    308\u001b[39m \u001b[38;5;28;01mtry\u001b[39;00m:\n\u001b[32m--> \u001b[39m\u001b[32m309\u001b[39m     \u001b[38;5;28;01mreturn\u001b[39;00m \u001b[43mfunc\u001b[49m\u001b[43m(\u001b[49m\u001b[43m*\u001b[49m\u001b[43margs\u001b[49m\u001b[43m,\u001b[49m\u001b[43m \u001b[49m\u001b[43m*\u001b[49m\u001b[43m*\u001b[49m\u001b[43mkwargs\u001b[49m\u001b[43m)\u001b[49m\n\u001b[32m    310\u001b[39m \u001b[38;5;28;01mfinally\u001b[39;00m:\n\u001b[32m    311\u001b[39m     torch.set_default_dtype(old_dtype)\n",
      "\u001b[36mFile \u001b[39m\u001b[32m~/Desktop/Repos/meGPT/.venv/lib/python3.13/site-packages/transformers/modeling_utils.py:4668\u001b[39m, in \u001b[36mPreTrainedModel.from_pretrained\u001b[39m\u001b[34m(cls, pretrained_model_name_or_path, config, cache_dir, ignore_mismatched_sizes, force_download, local_files_only, token, revision, use_safetensors, weights_only, *model_args, **kwargs)\u001b[39m\n\u001b[32m   4665\u001b[39m         device_map_kwargs[\u001b[33m\"\u001b[39m\u001b[33moffload_buffers\u001b[39m\u001b[33m\"\u001b[39m] = \u001b[38;5;28;01mTrue\u001b[39;00m\n\u001b[32m   4667\u001b[39m     \u001b[38;5;28;01mif\u001b[39;00m \u001b[38;5;129;01mnot\u001b[39;00m is_fsdp_enabled() \u001b[38;5;129;01mand\u001b[39;00m \u001b[38;5;129;01mnot\u001b[39;00m is_deepspeed_zero3_enabled():\n\u001b[32m-> \u001b[39m\u001b[32m4668\u001b[39m         \u001b[43mdispatch_model\u001b[49m\u001b[43m(\u001b[49m\u001b[43mmodel\u001b[49m\u001b[43m,\u001b[49m\u001b[43m \u001b[49m\u001b[43m*\u001b[49m\u001b[43m*\u001b[49m\u001b[43mdevice_map_kwargs\u001b[49m\u001b[43m)\u001b[49m\n\u001b[32m   4670\u001b[39m \u001b[38;5;28;01mif\u001b[39;00m hf_quantizer \u001b[38;5;129;01mis\u001b[39;00m \u001b[38;5;129;01mnot\u001b[39;00m \u001b[38;5;28;01mNone\u001b[39;00m:\n\u001b[32m   4671\u001b[39m     hf_quantizer.postprocess_model(model, config=config)\n",
      "\u001b[36mFile \u001b[39m\u001b[32m~/Desktop/Repos/meGPT/.venv/lib/python3.13/site-packages/accelerate/big_modeling.py:504\u001b[39m, in \u001b[36mdispatch_model\u001b[39m\u001b[34m(model, device_map, main_device, state_dict, offload_dir, offload_index, offload_buffers, skip_keys, preload_module_classes, force_hooks)\u001b[39m\n\u001b[32m    502\u001b[39m         model.to(device)\n\u001b[32m    503\u001b[39m     \u001b[38;5;28;01melse\u001b[39;00m:\n\u001b[32m--> \u001b[39m\u001b[32m504\u001b[39m         \u001b[38;5;28;01mraise\u001b[39;00m \u001b[38;5;167;01mValueError\u001b[39;00m(\n\u001b[32m    505\u001b[39m             \u001b[33m\"\u001b[39m\u001b[33mYou are trying to offload the whole model to the disk. Please use the `disk_offload` function instead.\u001b[39m\u001b[33m\"\u001b[39m\n\u001b[32m    506\u001b[39m         )\n\u001b[32m    507\u001b[39m \u001b[38;5;66;03m# Convert OrderedDict back to dict for easier usage\u001b[39;00m\n\u001b[32m    508\u001b[39m model.hf_device_map = \u001b[38;5;28mdict\u001b[39m(device_map)\n",
      "\u001b[31mValueError\u001b[39m: You are trying to offload the whole model to the disk. Please use the `disk_offload` function instead."
     ]
    }
   ],
   "source": [
    "model = AutoModelForCausalLM.from_pretrained(\n",
    "    model_id,\n",
    "    # quantization_config=bnb_config,\n",
    "    device_map=\"auto\"\n",
    ")"
   ]
  },
  {
   "cell_type": "code",
   "execution_count": null,
   "id": "dc3dabb6",
   "metadata": {},
   "outputs": [],
   "source": [
    "from peft import prepare_model_for_kbit_training, LoraConfig, get_peft_model\n",
    "\n",
    "# 1) Make sure all layers that need gradients are unfrozen, and any necessary buffers\n",
    "#    (e.g. for layernorm) are adjust-for-training.\n",
    "model = prepare_model_for_kbit_training(model)\n",
    "\n",
    "# 2) Define your LoRA config\n",
    "lora_config = LoraConfig(\n",
    "    r=16,                        # bottleneck rank\n",
    "    lora_alpha=32,               # scaling factor\n",
    "    target_modules=[\"q_proj\",\"v_proj\"],  # typically attention proj layers\n",
    "    lora_dropout=0.05,\n",
    "    bias=\"none\",\n",
    "    task_type=\"CAUSAL_LM\"\n",
    ")\n",
    "\n",
    "# 3) Wrap your model\n",
    "model = get_peft_model(model, lora_config)\n",
    "model.print_trainable_parameters()"
   ]
  },
  {
   "cell_type": "code",
   "execution_count": null,
   "id": "7963e233",
   "metadata": {},
   "outputs": [],
   "source": [
    "tokenizer.pad_token_id = tokenizer.eos_token_id\n",
    "\n",
    "pipeline = transformers.pipeline(\n",
    "   \"text-generation\",\n",
    "   model=model_id,\n",
    "   tokenizer=tokenizer,\n",
    "   max_new_tokens=32768,\n",
    "   temperature=0.6,\n",
    "   top_p=0.95,\n",
    "   **model_kwargs\n",
    ")\n"
   ]
  },
  {
   "cell_type": "code",
   "execution_count": null,
   "id": "695872d7",
   "metadata": {},
   "outputs": [],
   "source": [
    "persona_tokens = [\"<|ME|>\",\"<|OTHER|>\"]\n",
    "time_tokens    = [\"<|DT_SHORT|>\",\"<|DT_LONG|>\"]  # optional\n",
    "new_tokens = persona_tokens + time_tokens\n",
    "\n",
    "tokenizer.add_special_tokens({\"additional_special_tokens\": new_tokens})\n",
    "model.resize_token_embeddings(len(tokenizer))"
   ]
  },
  {
   "cell_type": "code",
   "execution_count": null,
   "id": "af21c262",
   "metadata": {},
   "outputs": [],
   "source": [
    "emb = model.get_input_embeddings()\n",
    "emb.weight.requires_grad_(False)  \n",
    "for t in new_tokens:\n",
    "    idx = tokenizer.convert_tokens_to_ids(t)\n",
    "    emb.weight[idx].requires_grad = True"
   ]
  },
  {
   "cell_type": "code",
   "execution_count": null,
   "id": "07aef76f",
   "metadata": {},
   "outputs": [],
   "source": [
    "\n",
    "model = AutoModelForCausalLM.from_pretrained(\n",
    "    \"meta-llama/Llama-3-7b-hf\",\n",
    "    torch_dtype=\"auto\",\n",
    "    device_map=\"auto\"\n",
    ")\n",
    "\n",
    "# 3) Resize model embeddings so it can learn them\n",
    "model.resize_token_embeddings(len(tokenizer))\n",
    "\n",
    "# Now you can format examples using <|OTHER|> and <|ME|> and HF will handle them."
   ]
  },
  {
   "cell_type": "code",
   "execution_count": null,
   "id": "f057bd42",
   "metadata": {},
   "outputs": [],
   "source": [
    "import pandas as pd\n",
    "import json\n",
    "from whatstk import WhatsAppChat\n",
    "from transformers import AutoTokenizer\n",
    "from tqdm.auto import tqdm\n",
    "\n",
    "\n",
    "SAME_CONVO_THRESHOLD_SECONDS = 3600\n",
    "SAME_USER_THRESHOLD_SECONDS = 600\n",
    "HISTORY_MAX_TOKENS = 3000\n",
    "CONVO_MIN_TOKENS = 100\n",
    "\n",
    "\n",
    "# create the tokenizer to measure the length of the text\n",
    "base_model_id = \"alpindale/Mistral-7B-v0.2-hf\"\n",
    "encoder = AutoTokenizer.from_pretrained(base_model_id, add_bos_token=False, add_special_tokens=True, trust_remote_code=True, use_fast=True, force_download=False)\n",
    "\n",
    "# combine messages from the same sender within 5 mins into a single new-line separated message\n",
    "def collapse_messages(df, delta_threshold=SAME_USER_THRESHOLD_SECONDS):\n",
    "    if len(df) == 0:\n",
    "        return df\n",
    "    \n",
    "    new_data = []\n",
    "    \n",
    "    df_temp = df.copy()\n",
    "    current_row = df_temp.iloc[0]\n",
    "    current_role = current_row[\"chat_message\"][0]\n",
    "\n",
    "    for _, row in tqdm(df_temp[1:].iterrows(), total=len(df_temp)-1):\n",
    "        row_role = row[\"chat_message\"][0]\n",
    "        row_message = row[\"chat_message\"][1]\n",
    "\n",
    "        if row_role == current_role and row[\"time_delta\"] < delta_threshold:\n",
    "            current_row[\"chat_message\"] = (current_row[\"chat_message\"][0], current_row[\"chat_message\"][1] + \"\\n\" + row_message)\n",
    "        else:\n",
    "            new_data.append(current_row.to_dict())\n",
    "            current_row = row\n",
    "            current_role = row_role\n",
    "    \n",
    "    # add last row\n",
    "    new_data.append(current_row.to_dict())\n",
    "\n",
    "    return pd.DataFrame(new_data)\n",
    "\n",
    "\n",
    "\n",
    "def preprocess_convo(input_path, output_path, role=\"user\", chat_owner=\"Watson\"):\n",
    "    chat = WhatsAppChat.from_source(filepath=input_path)\n",
    "    df = chat.df\n",
    "\n",
    "    # Calculate time passed since previous message\n",
    "    df[\"date_previous\"] = df[\"date\"].shift(periods=1)\n",
    "    df[\"time_delta\"] = (df[\"date\"]-df[\"date_previous\"]).dt.total_seconds()\n",
    "    df[\"chat_message\"] = df.apply(lambda x: (\"system\" if x[\"username\"] == chat_owner else role, x[\"message\"]), axis=1)\n",
    "    df = collapse_messages(df)\n",
    "\n",
    "    query = []\n",
    "    conversation = []\n",
    "    token_len = 0\n",
    "\n",
    "\n",
    "    for _, row in tqdm(df.iterrows(), total=len(df)):\n",
    "        row_role = row[\"chat_message\"][0]\n",
    "        row_message = row[\"chat_message\"][1]\n",
    "\n",
    "        # Ignore media\n",
    "        if row_message == \"<Media omitted>\":\n",
    "            continue\n",
    "\n",
    "        chat_message_formatted = \"<start_header_id>{role}<end_header_id>{message}\".format(role=row_role, message=row_message)\n",
    "        chat_message_formatted_len = len(encoder.encode(chat_message_formatted))\n",
    "      \n",
    "        # Add message to conversation if it's within one hour from the previous message, and the history is less than 5000 tokens\n",
    "        if row[\"time_delta\"]<SAME_CONVO_THRESHOLD_SECONDS and token_len + chat_message_formatted_len<HISTORY_MAX_TOKENS: \n",
    "            conversation.append(chat_message_formatted)\n",
    "        \n",
    "        # If message is more than one hour from the previous one or history length is too long, create a new conversation to hold the current message\n",
    "        else:\n",
    "            # Write the current conversation to the final query\n",
    "            query.append(conversation)\n",
    "            # reset\n",
    "            conversation = [chat_message_formatted]\n",
    "            token_len = chat_message_formatted_len\n",
    "\n",
    "    # write out the last conversation\n",
    "    query.append(conversation)\n",
    "\n",
    "\n",
    "    df_model = pd.DataFrame({\"query\": query})\n",
    "    df_model['query_str'] = df_model['query'].apply(lambda x: \"<|eot_id|>\".join(x))\n",
    "    df_model['query_len'] = df_model['query_str'].apply(lambda x: len(encoder.encode(x)))\n",
    "    \n",
    "    # remove short conversations\n",
    "    df_model_filtered = df_model[df_model['query_len'] > CONVO_MIN_TOKENS]\n",
    "\n",
    "\n",
    "    # write output as json lines in the format {'input': formatted_message} so that we can use it for finetuning\n",
    "    with open(output_path, 'w') as f:\n",
    "        for _, row in df_model_filtered.iterrows():\n",
    "            f.write(json.dumps({'input': row['query_str']}) + '\\n')        "
   ]
  }
 ],
 "metadata": {
  "kernelspec": {
   "display_name": ".venv",
   "language": "python",
   "name": "python3"
  },
  "language_info": {
   "codemirror_mode": {
    "name": "ipython",
    "version": 3
   },
   "file_extension": ".py",
   "mimetype": "text/x-python",
   "name": "python",
   "nbconvert_exporter": "python",
   "pygments_lexer": "ipython3",
   "version": "3.13.3"
  }
 },
 "nbformat": 4,
 "nbformat_minor": 5
}
